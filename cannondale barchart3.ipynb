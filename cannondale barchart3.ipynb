{
 "cells": [
  {
   "cell_type": "code",
   "execution_count": 6,
   "id": "a5da70ca",
   "metadata": {},
   "outputs": [
    {
     "name": "stdout",
     "output_type": "stream",
     "text": [
      "18\n",
      "18\n"
     ]
    },
    {
     "data": {
      "image/png": "[encoded data removed]",
      "text/plain": [
       "<Figure size 432x288 with 1 Axes>"
      ]
     },
     "metadata": {
      "needs_background": "light"
     },
     "output_type": "display_data"
    }
   ],
   "source": [
    "import json\n",
    "import pandas as pd\n",
    "import matplotlib.pyplot as plt\n",
    "import functools\n",
    "import operator\n",
    "import math\n",
    "\n",
    "f = open('cannondaleResultsCombined.json')\n",
    " \n",
    "data = json.load(f)\n",
    "\n",
    "hashtagList = []\n",
    "likeList = []\n",
    "filteredHashList = []\n",
    "\n",
    "\n",
    "#for post in data:\n",
    "#    print(post[\"likes\"])\n",
    "#    print(post[\"hashtags\"])\n",
    "\n",
    "for post in data:\n",
    "     likes = post[\"likes\"]\n",
    "     hashes = post[\"hashtags\"]\n",
    "     # Change like threshold depending on how many posts wanted in chart\n",
    "     if likes > 30000:\n",
    "        forDataFrame = {\n",
    "            'Likes': likes,\n",
    "            'Hashtags': hashes\n",
    "        }\n",
    "        likeList.append(list(forDataFrame.values())[0])\n",
    "        hashtagList.append(list(forDataFrame.values())[1])\n",
    "        \n",
    "\n",
    "y = likeList\n",
    "x = hashtagList\n",
    "\n",
    "print(len(x))\n",
    "#print(type(y))\n",
    "print(len(y))\n",
    "#print(x)\n",
    "#print(y)\n",
    "\n",
    "\n",
    "df = pd.DataFrame({'hashtags':x, 'likes':y})\n",
    "ax = df.plot.bar(x='hashtags', y='likes', rot=0)\n",
    "\n"
   ]
  },
  {
   "cell_type": "code",
   "execution_count": null,
   "id": "d025a69a",
   "metadata": {},
   "outputs": [],
   "source": []
  }
 ],
 "metadata": {
  "kernelspec": {
   "display_name": "Python 3 (ipykernel)",
   "language": "python",
   "name": "python3"
  },
  "language_info": {
   "codemirror_mode": {
    "name": "ipython",
    "version": 3
   },
   "file_extension": ".py",
   "mimetype": "text/x-python",
   "name": "python",
   "nbconvert_exporter": "python",
   "pygments_lexer": "ipython3",
   "version": "3.7.2"
  }
 },
 "nbformat": 4,
 "nbformat_minor": 5
}
