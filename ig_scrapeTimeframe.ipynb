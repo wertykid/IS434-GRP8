{
 "cells": [
  {
   "cell_type": "markdown",
   "id": "e9d0c1f7-c43d-4417-b4f6-663186e99fa1",
   "metadata": {},
   "source": [
    "<h1><b> To scrape all posts from the account </b></h1>"
   ]
  },
  {
   "cell_type": "code",
   "execution_count": 2,
   "id": "d0c8bdc4-0b7a-4087-8cb4-b1df3068d482",
   "metadata": {},
   "outputs": [
    {
     "name": "stdout",
     "output_type": "stream",
     "text": [
      "Enter Instagram password for potatomochi: ········\n"
     ]
    }
   ],
   "source": [
    "from instaloader import *\n",
    "\n",
    "L = instaloader.Instaloader(download_comments= True, compress_json = False, download_videos=False)\n",
    "L.interactive_login(\"potatomochi\")  \n",
    "\n",
    "print(feature_names.to_numpy()[selected])"
   ]
  },
  {
   "cell_type": "code",
   "execution_count": null,
   "id": "8a006ade-8ef2-4939-adee-f825f33b49fe",
   "metadata": {},
   "outputs": [],
   "source": [
    "PROFILE = \"unsprungsg\"\n",
    "profile = Profile.from_username(L.context, PROFILE)\n",
    "\n",
    "posts_sorted_by_likes = sorted(profile.get_posts(), key=lambda post: post.likes, reverse=True)\n",
    "\n",
    "for post in posts_sorted_by_likes:\n",
    "    L.download_post(post, PROFILE)"
   ]
  },
  {
   "cell_type": "markdown",
   "id": "812ebdcb-d359-4355-944f-94fdd0cca479",
   "metadata": {},
   "source": [
    "<h1><b> To scrape posts from a specific timeframe </b></h1>"
   ]
  },
  {
   "cell_type": "code",
   "execution_count": 11,
   "id": "6d72602f",
   "metadata": {},
   "outputs": [
    {
     "name": "stdout",
     "output_type": "stream",
     "text": [
      "Enter Instagram password for noahthescraperer: ········\n"
     ]
    }
   ],
   "source": [
    "from instaloader import *\n",
    "L = instaloader.Instaloader(download_comments= True, compress_json = False, download_videos=False)\n",
    "L.interactive_login(\"noahthescraperer\")  \n"
   ]
  },
  {
   "cell_type": "code",
   "execution_count": 21,
   "id": "0eee3a26-dfa2-4513-8474-4bdbd9fbc113",
   "metadata": {},
   "outputs": [
    {
     "name": "stdout",
     "output_type": "stream",
     "text": [
      "Scrape Complete, Sweetie\n"
     ]
    }
   ],
   "source": [
    "import json\n",
    "from datetime import datetime\n",
    "from itertools import dropwhile, takewhile\n",
    "\n",
    "\n",
    "\n",
    "PROFILE = \"cannondalemountain\" #Input the IG handle\n",
    "\n",
    "posts = instaloader.Profile.from_username(L.context, PROFILE).get_posts()\n",
    "\n",
    "SINCE = datetime(2020, 1, 1) #From Current time year month date\n",
    "UNTIL = datetime(2019, 1, 1) #To Time in the past\n",
    "\n",
    "file_name = 'cannondaleResults2020-2019.json'\n",
    "initialList = []\n",
    "for post in takewhile(lambda p: p.date > UNTIL, dropwhile(lambda p: p.date > SINCE, posts)):\n",
    "    toScrape = {\n",
    "            \"caption\" : post.caption,\n",
    "            \"hashtags\" : post.caption_hashtags,\n",
    "            \"likes\" : post.likes,\n",
    "            \"comments\" : post.comments\n",
    "        }\n",
    "    initialList.append(toScrape)\n",
    "    \n",
    "    \n",
    "result = json.dumps(initialList)\n",
    "\n",
    "with open(file_name, 'a+') as filehandle:\n",
    "    filehandle.write(result)\n",
    "    \n",
    "print(\"Scrape Complete, Sweetie\")\n"
   ]
  },
  {
   "cell_type": "code",
   "execution_count": 14,
   "id": "113f902f-b2eb-4b28-a333-f24e2dafec67",
   "metadata": {},
   "outputs": [
    {
     "data": {
      "text/html": [
       "<div>\n",
       "<style scoped>\n",
       "    .dataframe tbody tr th:only-of-type {\n",
       "        vertical-align: middle;\n",
       "    }\n",
       "\n",
       "    .dataframe tbody tr th {\n",
       "        vertical-align: top;\n",
       "    }\n",
       "\n",
       "    .dataframe thead th {\n",
       "        text-align: right;\n",
       "    }\n",
       "</style>\n",
       "<table border=\"1\" class=\"dataframe\">\n",
       "  <thead>\n",
       "    <tr style=\"text-align: right;\">\n",
       "      <th></th>\n",
       "      <th>caption</th>\n",
       "      <th>hashtags</th>\n",
       "      <th>likes</th>\n",
       "      <th>comments</th>\n",
       "    </tr>\n",
       "  </thead>\n",
       "  <tbody>\n",
       "    <tr>\n",
       "      <th>0</th>\n",
       "      <td>You’ll be my valentine, since 85\\n.\\n Pic: Yet...</td>\n",
       "      <td>[unsprungsg, yeticycles, ridedriven, industryn...</td>\n",
       "      <td>380</td>\n",
       "      <td>0</td>\n",
       "    </tr>\n",
       "    <tr>\n",
       "      <th>1</th>\n",
       "      <td>The week’s hot promotion -⚡️ ZEB ⚡️ - Is there...</td>\n",
       "      <td>[unsprungsg, rockshox, zeb]</td>\n",
       "      <td>229</td>\n",
       "      <td>0</td>\n",
       "    </tr>\n",
       "    <tr>\n",
       "      <th>2</th>\n",
       "      <td>Eyes forward, on the prize. Oakley X Troy Lee ...</td>\n",
       "      <td>[unsprungsg, tldbike, gasgas]</td>\n",
       "      <td>135</td>\n",
       "      <td>2</td>\n",
       "    </tr>\n",
       "    <tr>\n",
       "      <th>3</th>\n",
       "      <td>DW Link mated to the Push Elevensix, Lyrik cha...</td>\n",
       "      <td>[unsprungsg, pushindustries, scienceofsuspension]</td>\n",
       "      <td>234</td>\n",
       "      <td>0</td>\n",
       "    </tr>\n",
       "    <tr>\n",
       "      <th>4</th>\n",
       "      <td>This customer has an Elevensix on his bike and...</td>\n",
       "      <td>[unsprungsg, pushindustries, scienceofsuspension]</td>\n",
       "      <td>213</td>\n",
       "      <td>4</td>\n",
       "    </tr>\n",
       "    <tr>\n",
       "      <th>...</th>\n",
       "      <td>...</td>\n",
       "      <td>...</td>\n",
       "      <td>...</td>\n",
       "      <td>...</td>\n",
       "    </tr>\n",
       "    <tr>\n",
       "      <th>162</th>\n",
       "      <td>1 of 1,408 color combination\\n.\\nPic: Industry...</td>\n",
       "      <td>[unsprungsg, myi9, madeinusa]</td>\n",
       "      <td>188</td>\n",
       "      <td>2</td>\n",
       "    </tr>\n",
       "    <tr>\n",
       "      <th>163</th>\n",
       "      <td>Yeti SB130 in-stock now, we’ve got Carbon and ...</td>\n",
       "      <td>[unsprungsg, yeticycles]</td>\n",
       "      <td>520</td>\n",
       "      <td>2</td>\n",
       "    </tr>\n",
       "    <tr>\n",
       "      <th>164</th>\n",
       "      <td>Show some love for your bike with the Elevensi...</td>\n",
       "      <td>[unsprungsg, pushindustries, scienceofsuspension]</td>\n",
       "      <td>223</td>\n",
       "      <td>0</td>\n",
       "    </tr>\n",
       "    <tr>\n",
       "      <th>165</th>\n",
       "      <td>What goes better with green than some envy 🥦 😈...</td>\n",
       "      <td>[unsprungsg, deitycomponents, evilbikes, pnwco...</td>\n",
       "      <td>785</td>\n",
       "      <td>5</td>\n",
       "    </tr>\n",
       "    <tr>\n",
       "      <th>166</th>\n",
       "      <td>Happy New Year Wonderful People !! 🎊</td>\n",
       "      <td>[]</td>\n",
       "      <td>90</td>\n",
       "      <td>0</td>\n",
       "    </tr>\n",
       "  </tbody>\n",
       "</table>\n",
       "<p>167 rows × 4 columns</p>\n",
       "</div>"
      ],
      "text/plain": [
       "                                               caption  \\\n",
       "0    You’ll be my valentine, since 85\\n.\\n Pic: Yet...   \n",
       "1    The week’s hot promotion -⚡️ ZEB ⚡️ - Is there...   \n",
       "2    Eyes forward, on the prize. Oakley X Troy Lee ...   \n",
       "3    DW Link mated to the Push Elevensix, Lyrik cha...   \n",
       "4    This customer has an Elevensix on his bike and...   \n",
       "..                                                 ...   \n",
       "162  1 of 1,408 color combination\\n.\\nPic: Industry...   \n",
       "163  Yeti SB130 in-stock now, we’ve got Carbon and ...   \n",
       "164  Show some love for your bike with the Elevensi...   \n",
       "165  What goes better with green than some envy 🥦 😈...   \n",
       "166               Happy New Year Wonderful People !! 🎊   \n",
       "\n",
       "                                              hashtags  likes  comments  \n",
       "0    [unsprungsg, yeticycles, ridedriven, industryn...    380         0  \n",
       "1                          [unsprungsg, rockshox, zeb]    229         0  \n",
       "2                        [unsprungsg, tldbike, gasgas]    135         2  \n",
       "3    [unsprungsg, pushindustries, scienceofsuspension]    234         0  \n",
       "4    [unsprungsg, pushindustries, scienceofsuspension]    213         4  \n",
       "..                                                 ...    ...       ...  \n",
       "162                      [unsprungsg, myi9, madeinusa]    188         2  \n",
       "163                           [unsprungsg, yeticycles]    520         2  \n",
       "164  [unsprungsg, pushindustries, scienceofsuspension]    223         0  \n",
       "165  [unsprungsg, deitycomponents, evilbikes, pnwco...    785         5  \n",
       "166                                                 []     90         0  \n",
       "\n",
       "[167 rows x 4 columns]"
      ]
     },
     "execution_count": 14,
     "metadata": {},
     "output_type": "execute_result"
    }
   ],
   "source": [
    "import pandas as pd\n",
    "import json \n",
    "\n",
    "# yaaaaaasssss I can convert it into a pandas datafram which will help with graph visualization\n",
    "# if you need it so just comment this out if you don't need it yet :>\n",
    "f= open('results2021-2022.json')\n",
    "data = json.load(f)\n",
    "\n",
    "# print(data)\n",
    "\n",
    "\n",
    "df1 = pd.json_normalize(data)\n",
    "\n",
    "\n",
    "\n",
    "\n",
    "\n",
    "df1"
   ]
  },
  {
   "cell_type": "code",
   "execution_count": null,
   "id": "59474000-599c-46c2-ac03-3521e8211e92",
   "metadata": {},
   "outputs": [],
   "source": [
    "# import json\n",
    " \n",
    "# # Opening JSON file\n",
    "# f = open('data.json')\n",
    " \n",
    "# # returns JSON object as\n",
    "# # a dictionary\n",
    "# data = json.load(f)\n",
    " \n",
    "# # Iterating through the json\n",
    "# # list\n",
    "# for i in data['emp_details']:\n",
    "#     print(i)\n",
    " \n",
    "# # Closing file\n",
    "# f.close()"
   ]
  }
 ],
 "metadata": {
  "kernelspec": {
   "display_name": "Python 3 (ipykernel)",
   "language": "python",
   "name": "python3"
  },
  "language_info": {
   "codemirror_mode": {
    "name": "ipython",
    "version": 3
   },
   "file_extension": ".py",
   "mimetype": "text/x-python",
   "name": "python",
   "nbconvert_exporter": "python",
   "pygments_lexer": "ipython3",
   "version": "3.9.7"
  }
 },
 "nbformat": 4,
 "nbformat_minor": 5
}
