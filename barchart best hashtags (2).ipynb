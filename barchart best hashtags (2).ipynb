{
 "cells": [
  {
   "cell_type": "code",
   "execution_count": 1,
   "id": "a5da70ca",
   "metadata": {},
   "outputs": [
    {
     "name": "stdout",
     "output_type": "stream",
     "text": [
      "8\n",
      "8\n",
      "wasabishadow\n",
      "insurgent\n",
      "dreambuild\n",
      "athlete\n",
      "onlytraining\n",
      "nofun\n",
      "fastandloose\n",
      "firetowerlt\n"
     ]
    }
   ],
   "source": [
    "import json\n",
    "import pandas as pd\n",
    "import matplotlib.pyplot as plt\n",
    "import functools\n",
    "import operator\n",
    "import math\n",
    "import functools\n",
    "import operator\n",
    "regular_list = []\n",
    "\n",
    "f = open('all_companies.json')\n",
    "\n",
    "x = ['wasabishadow', 'insurgent','dreambuild','athlete','onlytraining','nofun','fastandloose','firetowerlt']\n",
    "print(len(x))\n",
    "y = [] \n",
    "\n",
    "#x = list(dict.fromkeys(x))\n",
    "print(len(x))\n",
    "\n",
    "countIndex = 0\n",
    "\n",
    "\n",
    "# likeList = []\n",
    "hashtagList = []\n",
    "myDict = {}\n",
    "\n",
    "data = json.load(f)\n",
    "while countIndex < 8:\n",
    "    likeList = []\n",
    "    hashtoTake = x[countIndex]\n",
    "    print(hashtoTake)\n",
    "    for post in data:\n",
    "         if hashtoTake in post[\"hashtags\"]:\n",
    "            likes = post[\"likes\"]\n",
    "            hashes = post[\"hashtags\"]\n",
    "            likeList.append(likes)\n",
    "\n",
    "    myDict[hashtoTake] = likeList\n",
    "    countIndex += 1\n",
    "\n"
   ]
  },
  {
   "cell_type": "code",
   "execution_count": 2,
   "id": "d025a69a",
   "metadata": {},
   "outputs": [
    {
     "name": "stdout",
     "output_type": "stream",
     "text": [
      "8\n",
      "['wasabishadow', 'insurgent', 'dreambuild', 'athlete', 'onlytraining', 'nofun', 'fastandloose', 'firetowerlt']\n"
     ]
    },
    {
     "data": {
      "image/png": "[encoded data removed]",
      "text/plain": [
       "<Figure size 432x288 with 1 Axes>"
      ]
     },
     "metadata": {
      "needs_background": "light"
     },
     "output_type": "display_data"
    }
   ],
   "source": [
    "\n",
    "\n",
    "barDict = {}\n",
    "\n",
    "for key ,value in myDict.items():\n",
    "    if len(value) != 0:\n",
    "        average = sum(value) // len(value)\n",
    "        barDict[key] = average\n",
    "\n",
    "x = list(barDict.keys())\n",
    "y = list(barDict.values())\n",
    "print(len(x))\n",
    "\n",
    "df = pd.DataFrame({'Hashtags':x, 'Likes':y})\n",
    "ax = df.plot.bar(x='Hashtags', y='Likes', width=0.5)\n",
    "\n",
    "print(x)"
   ]
  },
  {
   "cell_type": "code",
   "execution_count": 3,
   "id": "7cd052db",
   "metadata": {},
   "outputs": [
    {
     "name": "stdout",
     "output_type": "stream",
     "text": [
      "{'wasabishadow': 5836, 'insurgent': 3815, 'dreambuild': 5358, 'athlete': 4030, 'onlytraining': 4030, 'nofun': 4030, 'fastandloose': 4030, 'firetowerlt': 22717}\n"
     ]
    }
   ],
   "source": [
    "print(barDict)"
   ]
  },
  {
   "cell_type": "code",
   "execution_count": null,
   "id": "4bf47ba3",
   "metadata": {},
   "outputs": [],
   "source": []
  }
 ],
 "metadata": {
  "kernelspec": {
   "display_name": "Python 3 (ipykernel)",
   "language": "python",
   "name": "python3"
  },
  "language_info": {
   "codemirror_mode": {
    "name": "ipython",
    "version": 3
   },
   "file_extension": ".py",
   "mimetype": "text/x-python",
   "name": "python",
   "nbconvert_exporter": "python",
   "pygments_lexer": "ipython3",
   "version": "3.7.2"
  }
 },
 "nbformat": 4,
 "nbformat_minor": 5
}
