{
 "cells": [
  {
   "cell_type": "code",
   "execution_count": null,
   "id": "40aed241-e5d7-4537-a7ec-716fc5b2ebe6",
   "metadata": {},
   "outputs": [],
   "source": [
    "import os\n",
    "import re\n",
    "import pandas as pd\n",
    "\n",
    "#get full path of txt file\n",
    "filePath = []\n",
    "for file in os.listdir(\"./\"):\n",
    "    filePath.append(os.path.join(\"./\", file))\n",
    "\n",
    "#pull file name from text file with regex, capturing the text before the .txt   \n",
    "fileName = re.compile('\\\\\\\\(.*)\\.txt')\n",
    "\n",
    "#make empty dict Data with the key as the file name, and the value as the words in the file.\n",
    "data = {}\n",
    "for file in filePath:\n",
    "    #capturing file name\n",
    "    key = fileName.search(file)\n",
    "    with open(file, \"r\") as readFile:\n",
    "        # note that key[1] is the capture group from our search, and that the text is put into a list.\n",
    "        data[key[1]] = [readFile.read()]\n",
    "\n",
    "#make dataframe from dict, and rename columns.\n",
    "df = pd.DataFrame(data).T.reset_index().rename(columns = {'index':'bands', 0:'lyrics'})"
   ]
  }
 ],
 "metadata": {
  "kernelspec": {
   "display_name": "Python 3 (ipykernel)",
   "language": "python",
   "name": "python3"
  },
  "language_info": {
   "codemirror_mode": {
    "name": "ipython",
    "version": 3
   },
   "file_extension": ".py",
   "mimetype": "text/x-python",
   "name": "python",
   "nbconvert_exporter": "python",
   "pygments_lexer": "ipython3",
   "version": "3.9.7"
  }
 },
 "nbformat": 4,
 "nbformat_minor": 5
}
