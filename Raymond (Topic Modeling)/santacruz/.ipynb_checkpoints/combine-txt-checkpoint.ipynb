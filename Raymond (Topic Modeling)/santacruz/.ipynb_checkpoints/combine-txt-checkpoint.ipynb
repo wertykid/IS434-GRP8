{
 "cells": [
  {
   "cell_type": "markdown",
   "id": "e38b9da6-41b3-4179-8fc6-c1c4d0dee263",
   "metadata": {},
   "source": [
    "<b><h2> LDA Topic Modelling with evaluation metrics </h2></b>"
   ]
  },
  {
   "cell_type": "markdown",
   "id": "e4b8260d-af8d-4ff3-9474-39fda1412ad5",
   "metadata": {},
   "source": [
    "This Jupyter file seeks to run the LDA model with Evaluation metrics to determine the best parameters for LDA configuration. The output of the model will be a HTML file showing the top topics."
   ]
  },
  {
   "cell_type": "markdown",
   "id": "3d1b222d-1fa2-4e51-b937-2efa7dca0642",
   "metadata": {},
   "source": [
    "<b><h3> Importing the relevant libraries & data preparation</h3></b>"
   ]
  },
  {
   "cell_type": "code",
   "execution_count": 5,
   "id": "bd1c0646-2f69-4a63-9163-a8d0ae738bb0",
   "metadata": {},
   "outputs": [],
   "source": [
    "import os\n",
    "import re\n",
    "import pandas as pd"
   ]
  },
  {
   "cell_type": "markdown",
   "id": "c621afef-57be-44ec-b3f1-2209e81f1089",
   "metadata": {},
   "source": [
    "<b><h4> Looping through all the txt files containing post description and combining it into one </h4> </b>"
   ]
  },
  {
   "cell_type": "code",
   "execution_count": 6,
   "id": "7ede2cfb-37cf-47a5-b1a6-4c58b5879c2b",
   "metadata": {},
   "outputs": [],
   "source": [
    "\n",
    "import glob\n",
    "\n",
    "read_files = glob.glob('./*.txt')\n",
    "\n",
    "with open('result.txt', 'wb') as outfile:\n",
    "    for f in read_files:\n",
    "        with open(f, 'rb') as infile:\n",
    "            outfile.write(infile.read())"
   ]
  },
  {
   "cell_type": "markdown",
   "id": "39f21170-a50f-4ac3-9a89-96866151e65b",
   "metadata": {},
   "source": [
    "<b><h4> Reading the combined txt file of result.txt </b></h4>"
   ]
  },
  {
   "cell_type": "code",
   "execution_count": 7,
   "id": "6aa4c43a-fe7a-4c88-aa29-64543aa72c48",
   "metadata": {},
   "outputs": [],
   "source": [
    "df = pd.read_csv('result.txt', sep=\"\\t\", header=None, names=[\"Description\"])"
   ]
  },
  {
   "cell_type": "markdown",
   "id": "db7d8ed4-b228-465d-b710-3350c5ad010d",
   "metadata": {},
   "source": [
    "<b><h4> Previewing the dataframe </b></h4>"
   ]
  },
  {
   "cell_type": "code",
   "execution_count": 8,
   "id": "1a0d4779-d9b0-4064-ba4d-77d6914a5aa4",
   "metadata": {},
   "outputs": [
    {
     "data": {
      "text/html": [
       "<div>\n",
       "<style scoped>\n",
       "    .dataframe tbody tr th:only-of-type {\n",
       "        vertical-align: middle;\n",
       "    }\n",
       "\n",
       "    .dataframe tbody tr th {\n",
       "        vertical-align: top;\n",
       "    }\n",
       "\n",
       "    .dataframe thead th {\n",
       "        text-align: right;\n",
       "    }\n",
       "</style>\n",
       "<table border=\"1\" class=\"dataframe\">\n",
       "  <thead>\n",
       "    <tr style=\"text-align: right;\">\n",
       "      <th></th>\n",
       "      <th>Description</th>\n",
       "    </tr>\n",
       "  </thead>\n",
       "  <tbody>\n",
       "    <tr>\n",
       "      <th>0</th>\n",
       "      <td>Sean Bell on his way to a 3rd place in the Jun...</td>\n",
       "    </tr>\n",
       "    <tr>\n",
       "      <th>1</th>\n",
       "      <td>Nice job @seanieb63</td>\n",
       "    </tr>\n",
       "    <tr>\n",
       "      <th>2</th>\n",
       "      <td>Photo by Called to Creation</td>\n",
       "    </tr>\n",
       "    <tr>\n",
       "      <th>3</th>\n",
       "      <td>#BronsonCC #kalimotxo</td>\n",
       "    </tr>\n",
       "    <tr>\n",
       "      <th>4</th>\n",
       "      <td>@TheRadavist getting dirty with the #Hightower...</td>\n",
       "    </tr>\n",
       "  </tbody>\n",
       "</table>\n",
       "</div>"
      ],
      "text/plain": [
       "                                         Description\n",
       "0  Sean Bell on his way to a 3rd place in the Jun...\n",
       "1                               Nice job @seanieb63 \n",
       "2                        Photo by Called to Creation\n",
       "3                              #BronsonCC #kalimotxo\n",
       "4  @TheRadavist getting dirty with the #Hightower..."
      ]
     },
     "execution_count": 8,
     "metadata": {},
     "output_type": "execute_result"
    }
   ],
   "source": [
    "df.head()"
   ]
  },
  {
   "cell_type": "markdown",
   "id": "a3d42efe-80e3-4f9a-a7d6-b92adabb427c",
   "metadata": {},
   "source": [
    "<b><h3> Remove punctuation and lower casing </b></h3>"
   ]
  },
  {
   "cell_type": "code",
   "execution_count": 9,
   "id": "fb9808f0-e5ec-4f93-b57f-ad0b94961acb",
   "metadata": {},
   "outputs": [
    {
     "data": {
      "text/plain": [
       "0    sean bell on his way to a 3rd place in the jun...\n",
       "1                                 nice job @seanieb63 \n",
       "2                          photo by called to creation\n",
       "3                                #bronsoncc #kalimotxo\n",
       "4    @theradavist getting dirty with the #hightower...\n",
       "Name: df_processed, dtype: object"
      ]
     },
     "execution_count": 9,
     "metadata": {},
     "output_type": "execute_result"
    }
   ],
   "source": [
    "# Load the regular expression library\n",
    "import re\n",
    "\n",
    "# Remove punctuation\n",
    "df['df_processed'] = df['Description'].map(lambda x: re.sub('[,\\.!?]', '', x))\n",
    "\n",
    "# Convert the titles to lowercase\n",
    "df['df_processed'] = df['df_processed'].map(lambda x: x.lower())\n",
    "\n",
    "# Print out the first rows of papers\n",
    "df['df_processed'].head()"
   ]
  },
  {
   "cell_type": "markdown",
   "id": "e0142d49-2ca0-42a9-93f4-18ba90b32e1f",
   "metadata": {},
   "source": [
    "<b><h3> Basic EDA visualization with WordCloud </b></h3>"
   ]
  },
  {
   "cell_type": "code",
   "execution_count": 10,
   "id": "d4f4cc59-4e4d-4c13-aa04-194a557e1d52",
   "metadata": {},
   "outputs": [
    {
     "data": {
      "image/png": "[encoded data removed]",
      "text/plain": [
       "<PIL.Image.Image image mode=RGB size=400x200 at 0x202E04C8DC0>"
      ]
     },
     "execution_count": 10,
     "metadata": {},
     "output_type": "execute_result"
    }
   ],
   "source": [
    "# Import the wordcloud library\n",
    "from wordcloud import WordCloud\n",
    "\n",
    "# Join the different processed titles together.\n",
    "long_string = ','.join(list(df['df_processed'].values))\n",
    "\n",
    "# Create a WordCloud object\n",
    "wordcloud = WordCloud(background_color=\"white\", max_words=5000, contour_width=3, contour_color='steelblue')\n",
    "\n",
    "# Generate a word cloud\n",
    "wordcloud.generate(long_string)\n",
    "\n",
    "# Visualize the word cloud\n",
    "wordcloud.to_image()"
   ]
  },
  {
   "cell_type": "markdown",
   "id": "f2788724-0645-4d5c-b958-54f314037459",
   "metadata": {},
   "source": [
    "<b><h3> Tokenization and further cleaning up the text</h3></b>"
   ]
  },
  {
   "cell_type": "code",
   "execution_count": 11,
   "id": "20fc6f21-ea44-47b2-bc56-48bbbc9c485e",
   "metadata": {},
   "outputs": [
    {
     "name": "stdout",
     "output_type": "stream",
     "text": [
      "['sean', 'bell', 'on', 'his', 'way', 'to', 'rd', 'place', 'in', 'the', 'junior', 'elite', 'class', 'in', 'fontana', 'on', 'sunday', 'the', 'southridge', 'winter', 'dh', 'series']\n"
     ]
    }
   ],
   "source": [
    "import gensim\n",
    "\n",
    "from gensim.utils import simple_preprocess\n",
    "def sent_to_words(sentences):\n",
    "    for sentence in sentences:\n",
    "        yield(gensim.utils.simple_preprocess(str(sentence), deacc=True))  # deacc=True removes punctuations\n",
    "data = df.df_processed.values.tolist()\n",
    "data_words = list(sent_to_words(data))\n",
    "print(data_words[:1][0][:30])"
   ]
  },
  {
   "cell_type": "markdown",
   "id": "30458d5c-dfac-4465-9cb9-95be73194b49",
   "metadata": {},
   "source": [
    "<b><h3> Building Bigram and Trigram Models </h3></b>"
   ]
  },
  {
   "cell_type": "code",
   "execution_count": 12,
   "id": "364de6d7-b05f-4017-acc6-c19542768ba7",
   "metadata": {},
   "outputs": [],
   "source": [
    "# Build the bigram and trigram models\n",
    "bigram = gensim.models.Phrases(data_words, min_count=5, threshold=100) # higher threshold fewer phrases.\n",
    "trigram = gensim.models.Phrases(bigram[data_words], threshold=100)\n",
    "\n",
    "# Faster way to get a sentence clubbed as a trigram/bigram\n",
    "bigram_mod = gensim.models.phrases.Phraser(bigram)\n",
    "trigram_mod = gensim.models.phrases.Phraser(trigram)"
   ]
  },
  {
   "cell_type": "markdown",
   "id": "6fb0d05e-8dfd-45a4-8a34-44073e43633b",
   "metadata": {},
   "source": [
    "<b><h4> Remove stopwords, Create Bigram and Trigram and Perform lemmatization</h4></b>"
   ]
  },
  {
   "cell_type": "code",
   "execution_count": 13,
   "id": "187b81c0-1fe1-44e4-8854-95e2608fbb08",
   "metadata": {},
   "outputs": [
    {
     "name": "stderr",
     "output_type": "stream",
     "text": [
      "[nltk_data] Downloading package stopwords to\n",
      "[nltk_data]     C:\\Users\\raymo\\AppData\\Roaming\\nltk_data...\n",
      "[nltk_data]   Package stopwords is already up-to-date!\n"
     ]
    }
   ],
   "source": [
    "# NLTK Stop words\n",
    "import nltk\n",
    "nltk.download('stopwords')\n",
    "\n",
    "from nltk.corpus import stopwords\n",
    "stop_words = stopwords.words('english')\n",
    "stop_words.extend(['from', 'in', 'get', 'use'])\n",
    "\n",
    "# Define functions for stopwords, bigrams, trigrams and lemmatization\n",
    "def remove_stopwords(texts):\n",
    "    return [[word for word in simple_preprocess(str(doc)) if word not in stop_words] for doc in texts]\n",
    "def make_bigrams(texts):\n",
    "    return [bigram_mod[doc] for doc in texts]\n",
    "def make_trigrams(texts):\n",
    "    return [trigram_mod[bigram_mod[doc]] for doc in texts]\n",
    "def lemmatization(texts, allowed_postags=['NOUN', 'ADJ', 'VERB', 'ADV']):\n",
    "    \"\"\"https://spacy.io/api/annotation\"\"\"\n",
    "    texts_out = []\n",
    "    for sent in texts:\n",
    "        doc = nlp(\" \".join(sent)) \n",
    "        texts_out.append([token.lemma_ for token in doc if token.pos_ in allowed_postags])\n",
    "    return texts_out"
   ]
  },
  {
   "cell_type": "code",
   "execution_count": 14,
   "id": "f96ea3d9-45fb-46db-ab1b-2d2505d9dd8a",
   "metadata": {},
   "outputs": [],
   "source": [
    "#!pip install spacy"
   ]
  },
  {
   "cell_type": "code",
   "execution_count": 15,
   "id": "fbb0ba81-bef5-4149-bb3d-8df8727ee787",
   "metadata": {},
   "outputs": [],
   "source": [
    "#!python -m spacy download en_core_web_sm"
   ]
  },
  {
   "cell_type": "markdown",
   "id": "815226a1-1870-444b-8a8d-c95b69829f68",
   "metadata": {},
   "source": [
    "<b><h4> Run the functions in sequence </h4></b>"
   ]
  },
  {
   "cell_type": "code",
   "execution_count": 16,
   "id": "e8c9d1f8-dcda-40ce-bf8d-13971971e22b",
   "metadata": {},
   "outputs": [
    {
     "name": "stdout",
     "output_type": "stream",
     "text": [
      "['place', 'class', 'southridge', 'winter', 'dh', 'series']\n"
     ]
    }
   ],
   "source": [
    "import spacy\n",
    "\n",
    "# Remove Stop Words\n",
    "data_words_nostops = remove_stopwords(data_words)\n",
    "\n",
    "# Form Bigrams\n",
    "data_words_bigrams = make_bigrams(data_words_nostops)\n",
    "\n",
    "# Initialize spacy 'en' model, keeping only tagger component (for efficiency)\n",
    "nlp = spacy.load(\"en_core_web_sm\", disable=['parser', 'ner'])\n",
    "\n",
    "# Do lemmatization keeping only noun, adj, vb, adv\n",
    "data_lemmatized = lemmatization(data_words_bigrams, allowed_postags=['NOUN', 'ADJ', 'VERB', 'ADV'])\n",
    "\n",
    "print(data_lemmatized[:1][0][:30])"
   ]
  },
  {
   "cell_type": "markdown",
   "id": "1381b1ec-86b8-4e93-b75a-1ef1d13bc21a",
   "metadata": {},
   "source": [
    "<b><h3> Loading Corpus </b></h3>"
   ]
  },
  {
   "cell_type": "code",
   "execution_count": 17,
   "id": "4bd277d4-a323-4d90-be5c-4eb434c2d7db",
   "metadata": {},
   "outputs": [
    {
     "name": "stdout",
     "output_type": "stream",
     "text": [
      "[(0, 1), (1, 1), (2, 1), (3, 1), (4, 1), (5, 1)]\n"
     ]
    }
   ],
   "source": [
    "import gensim.corpora as corpora\n",
    "\n",
    "# Create Dictionary\n",
    "id2word = corpora.Dictionary(data_lemmatized)\n",
    "\n",
    "# Create Corpus\n",
    "texts = data_lemmatized\n",
    "\n",
    "# Term Document Frequency\n",
    "corpus = [id2word.doc2bow(text) for text in texts]\n",
    "\n",
    "# View\n",
    "print(corpus[:1][0][:30])"
   ]
  },
  {
   "cell_type": "markdown",
   "id": "d5adf3b3-0830-4612-865a-454eb5d64e55",
   "metadata": {},
   "source": [
    "<b><h4> Running the Base Model </h4></b>"
   ]
  },
  {
   "cell_type": "code",
   "execution_count": 18,
   "id": "4408a058-ea28-4317-89e7-5ded0d98ac27",
   "metadata": {},
   "outputs": [],
   "source": [
    "# Build LDA model\n",
    "lda_model = gensim.models.LdaMulticore(corpus=corpus,\n",
    "                                       id2word=id2word,\n",
    "                                       num_topics=10, \n",
    "                                       random_state=100,\n",
    "                                       chunksize=100,\n",
    "                                       passes=10,\n",
    "                                       per_word_topics=True)"
   ]
  },
  {
   "cell_type": "code",
   "execution_count": 19,
   "id": "6c3c7f07-e741-45ed-a501-3e147b85a205",
   "metadata": {},
   "outputs": [
    {
     "name": "stdout",
     "output_type": "stream",
     "text": [
      "[(0,\n",
      "  '0.037*\"syndicate\" + 0.020*\"new\" + 0.014*\"race\" + 0.013*\"chameleon\" + '\n",
      "  '0.012*\"bike\" + 0.011*\"track\" + 0.011*\"stigmatacc\" + 0.009*\"go\" + '\n",
      "  '0.009*\"news\" + 0.008*\"nawatechgroup\"'),\n",
      " (1,\n",
      "  '0.046*\"new\" + 0.036*\"bio\" + 0.028*\"srammtb\" + 0.023*\"rockshox\" + '\n",
      "  '0.018*\"build\" + 0.014*\"ride\" + 0.013*\"time\" + 0.011*\"year\" + 0.011*\"shock\" '\n",
      "  '+ 0.011*\"tallboycc\"'),\n",
      " (2,\n",
      "  '0.059*\"scsyndicate\" + 0.018*\"win\" + 0.015*\"overall\" + 0.015*\"bike\" + '\n",
      "  '0.015*\"first\" + 0.014*\"take\" + 0.012*\"place\" + 0.011*\"weekend\" + '\n",
      "  '0.010*\"still\" + 0.009*\"series\"'),\n",
      " (3,\n",
      "  '0.043*\"trail\" + 0.034*\"bike\" + 0.015*\"ride\" + 0.014*\"megatower\" + '\n",
      "  '0.013*\"make\" + 0.013*\"day\" + 0.012*\"help\" + 0.010*\"time\" + 0.008*\"build\" + '\n",
      "  '0.008*\"year\"'),\n",
      " (4,\n",
      "  '0.120*\"link\" + 0.097*\"full\" + 0.072*\"profile\" + 0.063*\"check\" + '\n",
      "  '0.042*\"video\" + 0.033*\"detail\" + 0.022*\"reservewheel\" + 0.017*\"bike\" + '\n",
      "  '0.017*\"review\" + 0.016*\"report\"'),\n",
      " (5,\n",
      "  '0.034*\"nice\" + 0.017*\"custom\" + 0.016*\"go\" + 0.016*\"lorisvergier\" + '\n",
      "  '0.015*\"burgtec\" + 0.013*\"build\" + 0.012*\"run\" + 0.011*\"size\" + '\n",
      "  '0.011*\"hightowercc\" + 0.010*\"end\"'),\n",
      " (6,\n",
      "  '0.053*\"day\" + 0.019*\"garyperkin\" + 0.018*\"man\" + 0.018*\"chriskingbuzz\" + '\n",
      "  '0.016*\"world\" + 0.013*\"final\" + 0.012*\"take\" + 0.011*\"headset\" + '\n",
      "  '0.011*\"bring\" + 0.010*\"mountain\"'),\n",
      " (7,\n",
      "  '0.091*\"svenmartinphoto\" + 0.037*\"carbon\" + 0.036*\"wheel\" + 0.022*\"build\" + '\n",
      "  '0.020*\"bar\" + 0.018*\"available\" + 0.017*\"mm\" + 0.016*\"tire\" + 0.014*\"rim\" + '\n",
      "  '0.013*\"maxxistire\"'),\n",
      " (8,\n",
      "  '0.021*\"rear\" + 0.018*\"brake\" + 0.017*\"htsqd\" + 0.016*\"luca_shaw\" + '\n",
      "  '0.015*\"travel\" + 0.015*\"front\" + 0.013*\"rideshimano\" + 0.013*\"back\" + '\n",
      "  '0.013*\"drivetrain\" + 0.012*\"team\"'),\n",
      " (9,\n",
      "  '0.033*\"race\" + 0.023*\"good\" + 0.019*\"bike\" + 0.018*\"season\" + 0.014*\"new\" + '\n",
      "  '0.013*\"rider\" + 0.013*\"time\" + 0.012*\"year\" + 0.011*\"blur\" + '\n",
      "  '0.010*\"iagogaray\"')]\n"
     ]
    }
   ],
   "source": [
    "from pprint import pprint\n",
    "\n",
    "# Print the Keyword in the 10 topics\n",
    "pprint(lda_model.print_topics())\n",
    "doc_lda = lda_model[corpus]"
   ]
  },
  {
   "cell_type": "markdown",
   "id": "dcea0a53-3552-475c-afe8-36014fa69176",
   "metadata": {},
   "source": [
    "<b><h4> Topics </h4></b>\n",
    "<ol>\n",
    "        <li> New Product </li>\n",
    "        <li> New Product </li>\n",
    "        <li> Competition </li>\n",
    "        <li> Bike </li>\n",
    "        <li> Video </li>\n",
    "        <li> Build </li>\n",
    "        <li> Video </li>\n",
    "        <li> Bike </li>\n",
    "        <li> Bike </li>\n",
    "        <li> Race</li>\n",
    "</ol>\n",
    "    \n"
   ]
  },
  {
   "cell_type": "markdown",
   "id": "b7871347-2afe-48da-9af7-c8056cf38f5a",
   "metadata": {},
   "source": [
    "<b><h4> Calculating Coherence and Perplexity score </b></h4>"
   ]
  },
  {
   "cell_type": "code",
   "execution_count": 20,
   "id": "d43555b9-4241-4a59-bd47-f38f474b73ad",
   "metadata": {},
   "outputs": [
    {
     "name": "stdout",
     "output_type": "stream",
     "text": [
      "Coherence Score:  0.5127379287974738\n",
      "\n",
      "Perplexity:  -7.617298258743499\n"
     ]
    }
   ],
   "source": [
    "from gensim.models import CoherenceModel\n",
    "\n",
    "# Compute Coherence Score\n",
    "coherence_model_lda = CoherenceModel(model=lda_model, texts=data_lemmatized, dictionary=id2word, coherence='c_v')\n",
    "coherence_lda = coherence_model_lda.get_coherence()\n",
    "print('Coherence Score: ', coherence_lda)\n",
    "\n",
    "print('\\nPerplexity: ', lda_model.log_perplexity(corpus))  # a measure of how good the model is. lower the better.\n"
   ]
  },
  {
   "cell_type": "markdown",
   "id": "44c7c642-9055-4e13-bb7e-916dde6999c0",
   "metadata": {},
   "source": [
    "<b><h4> Hyperparameter Tuning </b></h4>"
   ]
  },
  {
   "cell_type": "code",
   "execution_count": 21,
   "id": "834f284f-d59f-4459-836f-6de115d16d79",
   "metadata": {},
   "outputs": [],
   "source": [
    "# supporting function\n",
    "def compute_coherence_values(corpus, dictionary, k, a, b):\n",
    "    \n",
    "    lda_model = gensim.models.LdaMulticore(corpus=corpus,\n",
    "                                           id2word=dictionary,\n",
    "                                           num_topics=k, \n",
    "                                           random_state=100,\n",
    "                                           chunksize=100,\n",
    "                                           passes=10,\n",
    "                                           alpha=a,\n",
    "                                           eta=b)\n",
    "    \n",
    "    coherence_model_lda = CoherenceModel(model=lda_model, texts=data_lemmatized, dictionary=id2word, coherence='c_v')\n",
    "    \n",
    "    return coherence_model_lda.get_coherence()"
   ]
  },
  {
   "cell_type": "markdown",
   "id": "1d737852-5867-4adc-8767-2f674147683f",
   "metadata": {},
   "source": [
    "<b><h4> Iterate over the range of topics, alpha, and beta parameter values to draw the best params for LDA</h4></b>"
   ]
  },
  {
   "cell_type": "code",
   "execution_count": 22,
   "id": "29a1c847-3035-4089-b6e2-5f72d9edc1df",
   "metadata": {},
   "outputs": [],
   "source": [
    "# import numpy as np\n",
    "# import tqdm\n",
    "\n",
    "# grid = {}\n",
    "# grid['Validation_Set'] = {}\n",
    "\n",
    "# # Topics range\n",
    "# min_topics = 2\n",
    "# max_topics = 11\n",
    "# step_size = 1\n",
    "# topics_range = range(min_topics, max_topics, step_size)\n",
    "\n",
    "# # Alpha parameter\n",
    "# alpha = list(np.arange(0.01, 1, 0.3))\n",
    "# alpha.append('symmetric')\n",
    "# alpha.append('asymmetric')\n",
    "\n",
    "# # Beta parameter\n",
    "# beta = list(np.arange(0.01, 1, 0.3))\n",
    "# beta.append('symmetric')\n",
    "\n",
    "# # Validation sets\n",
    "# num_of_docs = len(corpus)\n",
    "# corpus_sets = [gensim.utils.ClippedCorpus(corpus, int(num_of_docs*0.75)), \n",
    "#                corpus]\n",
    "\n",
    "# corpus_title = ['75% Corpus', '100% Corpus']\n",
    "\n",
    "# model_results = {'Validation_Set': [],\n",
    "#                  'Topics': [],\n",
    "#                  'Alpha': [],\n",
    "#                  'Beta': [],\n",
    "#                  'Coherence': []\n",
    "#                 }\n",
    "\n",
    "# # Can take a long time to run\n",
    "# if 1 == 1:\n",
    "#     pbar = tqdm.tqdm(total=(len(beta)*len(alpha)*len(topics_range)*len(corpus_title)))\n",
    "    \n",
    "#     # iterate through validation corpuses\n",
    "#     for i in range(len(corpus_sets)):\n",
    "#         # iterate through number of topics\n",
    "#         for k in topics_range:\n",
    "#             # iterate through alpha values\n",
    "#             for a in alpha:\n",
    "#                 # iterare through beta values\n",
    "#                 for b in beta:\n",
    "#                     # get the coherence score for the given parameters\n",
    "#                     cv = compute_coherence_values(corpus=corpus_sets[i], dictionary=id2word, \n",
    "#                                                   k=k, a=a, b=b)\n",
    "#                     # Save the model results\n",
    "#                     model_results['Validation_Set'].append(corpus_title[i])\n",
    "#                     model_results['Topics'].append(k)\n",
    "#                     model_results['Alpha'].append(a)\n",
    "#                     model_results['Beta'].append(b)\n",
    "#                     model_results['Coherence'].append(cv)\n",
    "                    \n",
    "#                     pbar.update(1)\n",
    "#     pd.DataFrame(model_results).to_csv('./results/lda_tuning_results.csv', index=False)\n",
    "#     pbar.close()\n"
   ]
  },
  {
   "cell_type": "markdown",
   "id": "dec0b06d-c0d4-44ea-8e8f-8ab1e6fc7207",
   "metadata": {},
   "source": [
    "<b><h3> Run the final model with the best Alpha, Beta and Number of Topics K </h3></b>"
   ]
  },
  {
   "cell_type": "code",
   "execution_count": 23,
   "id": "afd76db6-aa29-4ffd-a097-bce3678b6732",
   "metadata": {},
   "outputs": [],
   "source": [
    "lda_model = gensim.models.LdaMulticore(corpus=corpus,\n",
    "                                           id2word=id2word,\n",
    "                                           num_topics=3, \n",
    "                                           random_state=100,\n",
    "                                           chunksize=100,\n",
    "                                           passes=10,\n",
    "                                           alpha=\"asymmetric\",\n",
    "                                           eta=0.01)"
   ]
  },
  {
   "cell_type": "markdown",
   "id": "224a8afa-a25c-4b54-970a-ec81793c95c9",
   "metadata": {},
   "source": [
    "<b><h4> Coherence score improved about 30% with this configuration </h4></b>\n",
    "\n",
    "Previous Coherence: 0.5127379287974738\n",
    "\n",
    "Current Coherence: 0.67190936"
   ]
  },
  {
   "cell_type": "markdown",
   "id": "460df25f-2b9d-4799-a1d2-a7c6d6b689f9",
   "metadata": {},
   "source": [
    "<b><h3> Visualize Topics with pyLDavis </h3></b>"
   ]
  },
  {
   "cell_type": "code",
   "execution_count": 24,
   "id": "d7e33c0d-0900-4372-ad49-e08a13ced630",
   "metadata": {},
   "outputs": [],
   "source": [
    "#!pip install pyLDAvis"
   ]
  },
  {
   "cell_type": "code",
   "execution_count": 25,
   "id": "5605e007-614f-4057-9e2f-d1aef6815cba",
   "metadata": {},
   "outputs": [
    {
     "name": "stderr",
     "output_type": "stream",
     "text": [
      "C:\\ProgramData\\Anaconda3\\lib\\site-packages\\pyLDAvis\\_prepare.py:246: FutureWarning: In a future version of pandas all arguments of DataFrame.drop except for the argument 'labels' will be keyword-only\n",
      "  default_term_info = default_term_info.sort_values(\n"
     ]
    }
   ],
   "source": [
    "import pyLDAvis\n",
    "import pyLDAvis.gensim_models as gensimvis\n",
    "pyLDAvis.enable_notebook()\n",
    "\n",
    "# Visualize the topics\n",
    "\n",
    "LDAvis_prepared = gensimvis.prepare(lda_model, corpus, id2word)\n",
    "#LDAvis_prepared\n",
    "\n",
    "pyLDAvis.save_html(LDAvis_prepared, \"topic_viz_combine-txt2.html\")\n"
   ]
  },
  {
   "cell_type": "code",
   "execution_count": null,
   "id": "73c157d6-269f-47ae-904d-c4fe07113c82",
   "metadata": {},
   "outputs": [],
   "source": []
  }
 ],
 "metadata": {
  "kernelspec": {
   "display_name": "Python 3 (ipykernel)",
   "language": "python",
   "name": "python3"
  },
  "language_info": {
   "codemirror_mode": {
    "name": "ipython",
    "version": 3
   },
   "file_extension": ".py",
   "mimetype": "text/x-python",
   "name": "python",
   "nbconvert_exporter": "python",
   "pygments_lexer": "ipython3",
   "version": "3.9.7"
  }
 },
 "nbformat": 4,
 "nbformat_minor": 5
}
