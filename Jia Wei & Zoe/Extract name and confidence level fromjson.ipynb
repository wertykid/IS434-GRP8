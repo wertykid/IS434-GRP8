{
 "cells": [
  {
   "cell_type": "markdown",
   "id": "3ba1cf0c",
   "metadata": {},
   "source": [
    "<b> Extract images with likes greater than 0.02% of the number of followers"
   ]
  },
  {
   "cell_type": "code",
   "execution_count": null,
   "id": "7dd7b7e2",
   "metadata": {},
   "outputs": [],
   "source": [
    "import os, json\n",
    "import shutil\n",
    "\n",
    "path_to_json = './'\n",
    "path_to_output='./images/'\n",
    "for file_name in [file for file in os.listdir(path_to_json) if file.endswith('.json')]:\n",
    "  with open(path_to_json + file_name) as json_file:\n",
    "    data = json.load(json_file)\n",
    "    if(data['Name']['edge_media_preview_like']['count'] >= 200):\n",
    "      data2 = data['node']\n",
    "      if  ('edge_sidecar_to_children' in data2):\n",
    "        print (len(data2['edge_sidecar_to_children']['edges']))\n",
    "        for x in range(1,(len(data2['edge_sidecar_to_children']['edges']))+1):\n",
    "          image_file_name = os.path.splitext(file_name)[0]+'_'+str(x)+'.jpg'\n",
    "          print(os.path.splitext(file_name)[0]+'_'+str(x)+'.jpg' )\n",
    "          shutil.copyfile(image_file_name, path_to_output+image_file_name)\n",
    "      else:\n",
    "        image_file_name = os.path.splitext(file_name)[0]+'.jpg'\n",
    "        print(os.path.splitext(file_name)[0]+'.jpg' )\n",
    "        shutil.copyfile(image_file_name, path_to_output+image_file_name)"
   ]
  },
  {
   "cell_type": "markdown",
   "id": "6d2a66bc",
   "metadata": {},
   "source": [
    "<b> Extract topics identified from AWS Rekognition json output\n",
    "  "
   ]
  },
  {
   "cell_type": "code",
   "execution_count": 12,
   "id": "38fa7994",
   "metadata": {},
   "outputs": [],
   "source": [
    "import os, json\n",
    "import shutil\n",
    "\n",
    "# enter your own path\n",
    "path_to_json = 'C:/Users/Asus/Documents/SMU/Y4S2 (Y4S1)/(2) IS434 SA/Project/unsprung json/' \n",
    "path_to_output='C:/Users/Asus/Documents/SMU/Y4S2 (Y4S1)/(2) IS434 SA/Project/unsprung words/'\n",
    "with open(path_to_output + \"test.txt\", \"w\") as f:\n",
    "    for file_name in [file for file in os.listdir(path_to_json) if file.endswith('.json')]:\n",
    "        with open(path_to_json + file_name) as json_file:\n",
    "            data = json.load(json_file)\n",
    "            for x in data:\n",
    "                f.write(x['Name'] + '\\n')"
   ]
  }
 ],
 "metadata": {
  "kernelspec": {
   "display_name": "Python 3 (ipykernel)",
   "language": "python",
   "name": "python3"
  },
  "language_info": {
   "codemirror_mode": {
    "name": "ipython",
    "version": 3
   },
   "file_extension": ".py",
   "mimetype": "text/x-python",
   "name": "python",
   "nbconvert_exporter": "python",
   "pygments_lexer": "ipython3",
   "version": "3.7.11"
  }
 },
 "nbformat": 4,
 "nbformat_minor": 5
}
